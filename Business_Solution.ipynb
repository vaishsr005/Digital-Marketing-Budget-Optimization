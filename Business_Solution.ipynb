{
  "nbformat": 4,
  "nbformat_minor": 0,
  "metadata": {
    "colab": {
      "provenance": []
    },
    "kernelspec": {
      "name": "python3",
      "display_name": "Python 3"
    },
    "language_info": {
      "name": "python"
    }
  },
  "cells": [
    {
      "cell_type": "code",
      "execution_count": null,
      "metadata": {
        "id": "IRD3QsvrpbXS"
      },
      "outputs": [],
      "source": [
        "import pandas as pd"
      ]
    },
    {
      "cell_type": "code",
      "source": [
        "df = pd.read_csv(\"/content/2_data.csv\")"
      ],
      "metadata": {
        "id": "_H-Wyo2qWcSC"
      },
      "execution_count": null,
      "outputs": []
    },
    {
      "cell_type": "code",
      "source": [
        "df.head()"
      ],
      "metadata": {
        "colab": {
          "base_uri": "https://localhost:8080/",
          "height": 421
        },
        "id": "gNkhYbl-WemM",
        "outputId": "df4bb579-c937-4ac6-8629-cf56325426df"
      },
      "execution_count": null,
      "outputs": [
        {
          "output_type": "execute_result",
          "data": {
            "text/plain": [
              "         Date  Campaign ID Campaign Goal Code  Campaign Ad ID  \\\n",
              "0  12/14/2022            3      Intent to Buy             921   \n",
              "1  12/14/2022            3      Intent to Buy             921   \n",
              "2   1/11/2023            3      Intent to Buy             921   \n",
              "3   1/11/2023            3      Intent to Buy             921   \n",
              "4   1/11/2023            3      Intent to Buy             921   \n",
              "\n",
              "  Ad Digital Channel Ad channel partner  Ad Device  Ad Group  Ad Content ID  \\\n",
              "0             Search  Channel Partner 1    Tablets      18.0            NaN   \n",
              "1             Search  Channel Partner 1  Computers      13.0            NaN   \n",
              "2             Search  Channel Partner 1  Computers      13.0            NaN   \n",
              "3             Search  Channel Partner 1  Computers      18.0            NaN   \n",
              "4             Search  Channel Partner 1  Computers      20.0            NaN   \n",
              "\n",
              "  Ad Content Type  ... $ Spend  # Impressions  # Clicks  # Video Completes  \\\n",
              "0            Text  ...       0              0         0                  0   \n",
              "1            Text  ...      25             72        50                  0   \n",
              "2            Text  ...       0              0         0                  0   \n",
              "3            Text  ...       0              0         0                  0   \n",
              "4            Text  ...      10              6         5                  0   \n",
              "\n",
              "   # Social Likes  # Social Shares  # Web Visit  # Collateral View  \\\n",
              "0               0                0            0                  0   \n",
              "1               0                0            0                  0   \n",
              "2               0                0            0                  0   \n",
              "3               0                0            0                  0   \n",
              "4               0                0            1                  0   \n",
              "\n",
              "   # Product View  # Form Complete  \n",
              "0               0                0  \n",
              "1               0                0  \n",
              "2               0                0  \n",
              "3               0                0  \n",
              "4               0                0  \n",
              "\n",
              "[5 rows x 21 columns]"
            ],
            "text/html": [
              "\n",
              "  <div id=\"df-87eef211-4583-4cb3-b5f4-fc71ddf1366c\">\n",
              "    <div class=\"colab-df-container\">\n",
              "      <div>\n",
              "<style scoped>\n",
              "    .dataframe tbody tr th:only-of-type {\n",
              "        vertical-align: middle;\n",
              "    }\n",
              "\n",
              "    .dataframe tbody tr th {\n",
              "        vertical-align: top;\n",
              "    }\n",
              "\n",
              "    .dataframe thead th {\n",
              "        text-align: right;\n",
              "    }\n",
              "</style>\n",
              "<table border=\"1\" class=\"dataframe\">\n",
              "  <thead>\n",
              "    <tr style=\"text-align: right;\">\n",
              "      <th></th>\n",
              "      <th>Date</th>\n",
              "      <th>Campaign ID</th>\n",
              "      <th>Campaign Goal Code</th>\n",
              "      <th>Campaign Ad ID</th>\n",
              "      <th>Ad Digital Channel</th>\n",
              "      <th>Ad channel partner</th>\n",
              "      <th>Ad Device</th>\n",
              "      <th>Ad Group</th>\n",
              "      <th>Ad Content ID</th>\n",
              "      <th>Ad Content Type</th>\n",
              "      <th>...</th>\n",
              "      <th>$ Spend</th>\n",
              "      <th># Impressions</th>\n",
              "      <th># Clicks</th>\n",
              "      <th># Video Completes</th>\n",
              "      <th># Social Likes</th>\n",
              "      <th># Social Shares</th>\n",
              "      <th># Web Visit</th>\n",
              "      <th># Collateral View</th>\n",
              "      <th># Product View</th>\n",
              "      <th># Form Complete</th>\n",
              "    </tr>\n",
              "  </thead>\n",
              "  <tbody>\n",
              "    <tr>\n",
              "      <th>0</th>\n",
              "      <td>12/14/2022</td>\n",
              "      <td>3</td>\n",
              "      <td>Intent to Buy</td>\n",
              "      <td>921</td>\n",
              "      <td>Search</td>\n",
              "      <td>Channel Partner 1</td>\n",
              "      <td>Tablets</td>\n",
              "      <td>18.0</td>\n",
              "      <td>NaN</td>\n",
              "      <td>Text</td>\n",
              "      <td>...</td>\n",
              "      <td>0</td>\n",
              "      <td>0</td>\n",
              "      <td>0</td>\n",
              "      <td>0</td>\n",
              "      <td>0</td>\n",
              "      <td>0</td>\n",
              "      <td>0</td>\n",
              "      <td>0</td>\n",
              "      <td>0</td>\n",
              "      <td>0</td>\n",
              "    </tr>\n",
              "    <tr>\n",
              "      <th>1</th>\n",
              "      <td>12/14/2022</td>\n",
              "      <td>3</td>\n",
              "      <td>Intent to Buy</td>\n",
              "      <td>921</td>\n",
              "      <td>Search</td>\n",
              "      <td>Channel Partner 1</td>\n",
              "      <td>Computers</td>\n",
              "      <td>13.0</td>\n",
              "      <td>NaN</td>\n",
              "      <td>Text</td>\n",
              "      <td>...</td>\n",
              "      <td>25</td>\n",
              "      <td>72</td>\n",
              "      <td>50</td>\n",
              "      <td>0</td>\n",
              "      <td>0</td>\n",
              "      <td>0</td>\n",
              "      <td>0</td>\n",
              "      <td>0</td>\n",
              "      <td>0</td>\n",
              "      <td>0</td>\n",
              "    </tr>\n",
              "    <tr>\n",
              "      <th>2</th>\n",
              "      <td>1/11/2023</td>\n",
              "      <td>3</td>\n",
              "      <td>Intent to Buy</td>\n",
              "      <td>921</td>\n",
              "      <td>Search</td>\n",
              "      <td>Channel Partner 1</td>\n",
              "      <td>Computers</td>\n",
              "      <td>13.0</td>\n",
              "      <td>NaN</td>\n",
              "      <td>Text</td>\n",
              "      <td>...</td>\n",
              "      <td>0</td>\n",
              "      <td>0</td>\n",
              "      <td>0</td>\n",
              "      <td>0</td>\n",
              "      <td>0</td>\n",
              "      <td>0</td>\n",
              "      <td>0</td>\n",
              "      <td>0</td>\n",
              "      <td>0</td>\n",
              "      <td>0</td>\n",
              "    </tr>\n",
              "    <tr>\n",
              "      <th>3</th>\n",
              "      <td>1/11/2023</td>\n",
              "      <td>3</td>\n",
              "      <td>Intent to Buy</td>\n",
              "      <td>921</td>\n",
              "      <td>Search</td>\n",
              "      <td>Channel Partner 1</td>\n",
              "      <td>Computers</td>\n",
              "      <td>18.0</td>\n",
              "      <td>NaN</td>\n",
              "      <td>Text</td>\n",
              "      <td>...</td>\n",
              "      <td>0</td>\n",
              "      <td>0</td>\n",
              "      <td>0</td>\n",
              "      <td>0</td>\n",
              "      <td>0</td>\n",
              "      <td>0</td>\n",
              "      <td>0</td>\n",
              "      <td>0</td>\n",
              "      <td>0</td>\n",
              "      <td>0</td>\n",
              "    </tr>\n",
              "    <tr>\n",
              "      <th>4</th>\n",
              "      <td>1/11/2023</td>\n",
              "      <td>3</td>\n",
              "      <td>Intent to Buy</td>\n",
              "      <td>921</td>\n",
              "      <td>Search</td>\n",
              "      <td>Channel Partner 1</td>\n",
              "      <td>Computers</td>\n",
              "      <td>20.0</td>\n",
              "      <td>NaN</td>\n",
              "      <td>Text</td>\n",
              "      <td>...</td>\n",
              "      <td>10</td>\n",
              "      <td>6</td>\n",
              "      <td>5</td>\n",
              "      <td>0</td>\n",
              "      <td>0</td>\n",
              "      <td>0</td>\n",
              "      <td>1</td>\n",
              "      <td>0</td>\n",
              "      <td>0</td>\n",
              "      <td>0</td>\n",
              "    </tr>\n",
              "  </tbody>\n",
              "</table>\n",
              "<p>5 rows × 21 columns</p>\n",
              "</div>\n",
              "      <button class=\"colab-df-convert\" onclick=\"convertToInteractive('df-87eef211-4583-4cb3-b5f4-fc71ddf1366c')\"\n",
              "              title=\"Convert this dataframe to an interactive table.\"\n",
              "              style=\"display:none;\">\n",
              "        \n",
              "  <svg xmlns=\"http://www.w3.org/2000/svg\" height=\"24px\"viewBox=\"0 0 24 24\"\n",
              "       width=\"24px\">\n",
              "    <path d=\"M0 0h24v24H0V0z\" fill=\"none\"/>\n",
              "    <path d=\"M18.56 5.44l.94 2.06.94-2.06 2.06-.94-2.06-.94-.94-2.06-.94 2.06-2.06.94zm-11 1L8.5 8.5l.94-2.06 2.06-.94-2.06-.94L8.5 2.5l-.94 2.06-2.06.94zm10 10l.94 2.06.94-2.06 2.06-.94-2.06-.94-.94-2.06-.94 2.06-2.06.94z\"/><path d=\"M17.41 7.96l-1.37-1.37c-.4-.4-.92-.59-1.43-.59-.52 0-1.04.2-1.43.59L10.3 9.45l-7.72 7.72c-.78.78-.78 2.05 0 2.83L4 21.41c.39.39.9.59 1.41.59.51 0 1.02-.2 1.41-.59l7.78-7.78 2.81-2.81c.8-.78.8-2.07 0-2.86zM5.41 20L4 18.59l7.72-7.72 1.47 1.35L5.41 20z\"/>\n",
              "  </svg>\n",
              "      </button>\n",
              "      \n",
              "  <style>\n",
              "    .colab-df-container {\n",
              "      display:flex;\n",
              "      flex-wrap:wrap;\n",
              "      gap: 12px;\n",
              "    }\n",
              "\n",
              "    .colab-df-convert {\n",
              "      background-color: #E8F0FE;\n",
              "      border: none;\n",
              "      border-radius: 50%;\n",
              "      cursor: pointer;\n",
              "      display: none;\n",
              "      fill: #1967D2;\n",
              "      height: 32px;\n",
              "      padding: 0 0 0 0;\n",
              "      width: 32px;\n",
              "    }\n",
              "\n",
              "    .colab-df-convert:hover {\n",
              "      background-color: #E2EBFA;\n",
              "      box-shadow: 0px 1px 2px rgba(60, 64, 67, 0.3), 0px 1px 3px 1px rgba(60, 64, 67, 0.15);\n",
              "      fill: #174EA6;\n",
              "    }\n",
              "\n",
              "    [theme=dark] .colab-df-convert {\n",
              "      background-color: #3B4455;\n",
              "      fill: #D2E3FC;\n",
              "    }\n",
              "\n",
              "    [theme=dark] .colab-df-convert:hover {\n",
              "      background-color: #434B5C;\n",
              "      box-shadow: 0px 1px 3px 1px rgba(0, 0, 0, 0.15);\n",
              "      filter: drop-shadow(0px 1px 2px rgba(0, 0, 0, 0.3));\n",
              "      fill: #FFFFFF;\n",
              "    }\n",
              "  </style>\n",
              "\n",
              "      <script>\n",
              "        const buttonEl =\n",
              "          document.querySelector('#df-87eef211-4583-4cb3-b5f4-fc71ddf1366c button.colab-df-convert');\n",
              "        buttonEl.style.display =\n",
              "          google.colab.kernel.accessAllowed ? 'block' : 'none';\n",
              "\n",
              "        async function convertToInteractive(key) {\n",
              "          const element = document.querySelector('#df-87eef211-4583-4cb3-b5f4-fc71ddf1366c');\n",
              "          const dataTable =\n",
              "            await google.colab.kernel.invokeFunction('convertToInteractive',\n",
              "                                                     [key], {});\n",
              "          if (!dataTable) return;\n",
              "\n",
              "          const docLinkHtml = 'Like what you see? Visit the ' +\n",
              "            '<a target=\"_blank\" href=https://colab.research.google.com/notebooks/data_table.ipynb>data table notebook</a>'\n",
              "            + ' to learn more about interactive tables.';\n",
              "          element.innerHTML = '';\n",
              "          dataTable['output_type'] = 'display_data';\n",
              "          await google.colab.output.renderOutput(dataTable, element);\n",
              "          const docLink = document.createElement('div');\n",
              "          docLink.innerHTML = docLinkHtml;\n",
              "          element.appendChild(docLink);\n",
              "        }\n",
              "      </script>\n",
              "    </div>\n",
              "  </div>\n",
              "  "
            ]
          },
          "metadata": {},
          "execution_count": 3
        }
      ]
    },
    {
      "cell_type": "code",
      "source": [
        "missing_values = df.isnull().sum()\n",
        "print(\"Number of missing values in each column:\\n\", missing_values)\n",
        "\n"
      ],
      "metadata": {
        "colab": {
          "base_uri": "https://localhost:8080/"
        },
        "id": "iR0D_cqlWgy2",
        "outputId": "ff1dabde-669c-43b5-a2d3-673b7c612e4a"
      },
      "execution_count": null,
      "outputs": [
        {
          "output_type": "stream",
          "name": "stdout",
          "text": [
            "Number of missing values in each column:\n",
            " Date                       0\n",
            "Campaign ID                0\n",
            "Campaign Goal Code         0\n",
            "Campaign Ad ID             0\n",
            "Ad Digital Channel         0\n",
            "Ad channel partner         0\n",
            "Ad Device             257918\n",
            "Ad Group              257918\n",
            "Ad Content ID         143989\n",
            "Ad Content Type           97\n",
            "Audience Type              0\n",
            "$ Spend                    0\n",
            "# Impressions              0\n",
            "# Clicks                   0\n",
            "# Video Completes          0\n",
            "# Social Likes             0\n",
            "# Social Shares            0\n",
            "# Web Visit                0\n",
            "# Collateral View          0\n",
            "# Product View             0\n",
            "# Form Complete            0\n",
            "dtype: int64\n"
          ]
        }
      ]
    },
    {
      "cell_type": "code",
      "source": [
        "df.dropna(subset=['Ad Content Type'], inplace=True)\n"
      ],
      "metadata": {
        "id": "awWEVZqzWqlY"
      },
      "execution_count": null,
      "outputs": []
    },
    {
      "cell_type": "code",
      "source": [
        "missing_values = df.isnull().sum()\n",
        "print(\"Number of missing values in each column:\\n\", missing_values)\n",
        "\n"
      ],
      "metadata": {
        "colab": {
          "base_uri": "https://localhost:8080/"
        },
        "id": "Pszz89qAWsiI",
        "outputId": "41470bb5-78b2-491c-9932-2629c80aaa72"
      },
      "execution_count": null,
      "outputs": [
        {
          "output_type": "stream",
          "name": "stdout",
          "text": [
            "Number of missing values in each column:\n",
            " Date                       0\n",
            "Campaign ID                0\n",
            "Campaign Goal Code         0\n",
            "Campaign Ad ID             0\n",
            "Ad Digital Channel         0\n",
            "Ad channel partner         0\n",
            "Ad Device             257821\n",
            "Ad Group              257821\n",
            "Ad Content ID         143989\n",
            "Ad Content Type            0\n",
            "Audience Type              0\n",
            "$ Spend                    0\n",
            "# Impressions              0\n",
            "# Clicks                   0\n",
            "# Video Completes          0\n",
            "# Social Likes             0\n",
            "# Social Shares            0\n",
            "# Web Visit                0\n",
            "# Collateral View          0\n",
            "# Product View             0\n",
            "# Form Complete            0\n",
            "dtype: int64\n"
          ]
        }
      ]
    },
    {
      "cell_type": "code",
      "source": [
        "df = df.drop(['Ad Device','Ad Group','Ad Content ID'], axis=1)"
      ],
      "metadata": {
        "id": "DwOKjHfsXCBr"
      },
      "execution_count": null,
      "outputs": []
    },
    {
      "cell_type": "code",
      "source": [
        "missing_values = df.isnull().sum()\n",
        "print(\"Number of missing values in each column:\\n\", missing_values)\n",
        "\n"
      ],
      "metadata": {
        "colab": {
          "base_uri": "https://localhost:8080/"
        },
        "id": "h0EoUOgIXPEl",
        "outputId": "06fb4644-4b44-4ad4-e820-8b83d25bdd7c"
      },
      "execution_count": null,
      "outputs": [
        {
          "output_type": "stream",
          "name": "stdout",
          "text": [
            "Number of missing values in each column:\n",
            " Date                  0\n",
            "Campaign ID           0\n",
            "Campaign Goal Code    0\n",
            "Campaign Ad ID        0\n",
            "Ad Digital Channel    0\n",
            "Ad channel partner    0\n",
            "Ad Content Type       0\n",
            "Audience Type         0\n",
            "$ Spend               0\n",
            "# Impressions         0\n",
            "# Clicks              0\n",
            "# Video Completes     0\n",
            "# Social Likes        0\n",
            "# Social Shares       0\n",
            "# Web Visit           0\n",
            "# Collateral View     0\n",
            "# Product View        0\n",
            "# Form Complete       0\n",
            "dtype: int64\n"
          ]
        }
      ]
    },
    {
      "cell_type": "code",
      "source": [
        "# Calculate the pay per click for each channel\n",
        "\n",
        "total_cost = df.groupby('Ad Digital Channel')['$ Spend'].sum()\n",
        "total_clicks = df.groupby('Ad Digital Channel')['# Clicks'].sum()\n",
        "\n",
        "\n",
        "ppc = total_cost / total_clicks\n",
        "\n",
        "print(ppc)"
      ],
      "metadata": {
        "colab": {
          "base_uri": "https://localhost:8080/"
        },
        "id": "_ZDokXqgXWVL",
        "outputId": "1207b5e6-c404-449f-bf62-630725a21507"
      },
      "execution_count": null,
      "outputs": [
        {
          "output_type": "stream",
          "name": "stdout",
          "text": [
            "Ad Digital Channel\n",
            "Programmatic Display    0.015130\n",
            "Search                  0.045700\n",
            "Social                  0.011899\n",
            "dtype: float64\n"
          ]
        }
      ]
    },
    {
      "cell_type": "code",
      "source": [
        "\n",
        "# Calculate the click through rate for each channel\n",
        "\n",
        "total_impressions = df.groupby('Ad Digital Channel')['# Impressions'].sum()\n",
        "total_clicks = df.groupby('Ad Digital Channel')['# Clicks'].sum()\n",
        "\n",
        "ctr = total_clicks / total_impressions\n",
        "\n",
        "print(ctr)"
      ],
      "metadata": {
        "colab": {
          "base_uri": "https://localhost:8080/"
        },
        "id": "VIAckkVdXXlL",
        "outputId": "cc1e1eb0-3713-4569-a709-835e31ad89bd"
      },
      "execution_count": null,
      "outputs": [
        {
          "output_type": "stream",
          "name": "stdout",
          "text": [
            "Ad Digital Channel\n",
            "Programmatic Display    0.199746\n",
            "Search                  0.267934\n",
            "Social                  0.558849\n",
            "dtype: float64\n"
          ]
        }
      ]
    },
    {
      "cell_type": "code",
      "source": [
        "#initial allocation from historical data\n",
        "\n",
        "total_spent = df.groupby('Ad Digital Channel')['$ Spend'].sum()\n",
        "\n",
        "print(total_spent)"
      ],
      "metadata": {
        "colab": {
          "base_uri": "https://localhost:8080/"
        },
        "id": "J7b2sc4NXcEe",
        "outputId": "28835f17-3de9-4c00-f157-4b1cee61b237"
      },
      "execution_count": null,
      "outputs": [
        {
          "output_type": "stream",
          "name": "stdout",
          "text": [
            "Ad Digital Channel\n",
            "Programmatic Display    3934704\n",
            "Search                  2009657\n",
            "Social                   754782\n",
            "Name: $ Spend, dtype: int64\n"
          ]
        }
      ]
    },
    {
      "cell_type": "code",
      "source": [
        "#Channel allocation\n",
        "\n",
        "import numpy as np\n",
        "from scipy.optimize import minimize\n",
        "\n",
        "def objective(x):\n",
        "    ppc = np.array([0.015130, 0.045700, 0.011899])  # pay per click for each channel\n",
        "    ctr = np.array([0.199844, 0.267934, 0.558849])  # click through rate for each channel\n",
        "    return -1 * (x.dot(ppc * ctr))  # negative sign to maximize returns\n",
        "\n",
        "\n",
        "budget = 1000000  # total budget\n",
        "# Define the constraints\n",
        "budget = 1000000\n",
        "cons = ({'type': 'eq', 'fun': lambda x: np.sum(x) - budget})  # budget constraint\n",
        "bounds = [(budget*0.02, budget*0.5)] * 3  # bounds for each channel\n",
        "\n",
        "\n",
        "# Initial budget allocation\n",
        "x0 = np.array([3937607, 2009657, 754782])\n",
        "\n",
        "# Run the optimization algorithm\n",
        "result = minimize(objective, x0, method='SLSQP', bounds=bounds, constraints=cons)\n",
        "\n",
        "# Print the optimal budget allocation with channel names\n",
        "channel_names = ['Programmatic Display', 'Search', 'Social']\n",
        "for i in range(len(channel_names)):\n",
        "    print(channel_names[i] + ': $' + str(round(result.x[i], 2)))\n"
      ],
      "metadata": {
        "colab": {
          "base_uri": "https://localhost:8080/"
        },
        "id": "sPO9JCSVXgPz",
        "outputId": "02611c6b-36c8-49a1-edc6-ddf81a35acba"
      },
      "execution_count": null,
      "outputs": [
        {
          "output_type": "stream",
          "name": "stdout",
          "text": [
            "Programmatic Display: $188178.9\n",
            "Search: $500000.0\n",
            "Social: $311821.1\n"
          ]
        }
      ]
    },
    {
      "cell_type": "code",
      "source": [
        "\n",
        "# Calculate the pay per click for each audience\n",
        "\n",
        "\n",
        "total_cost = df.groupby('Audience Type')['$ Spend'].sum()\n",
        "total_clicks = df.groupby('Audience Type')['# Clicks'].sum()\n",
        "\n",
        "ppc_at = total_cost / total_clicks\n",
        "\n",
        "print(ppc_at)"
      ],
      "metadata": {
        "colab": {
          "base_uri": "https://localhost:8080/"
        },
        "id": "v7gsl0ZwXnL1",
        "outputId": "bc2ac50b-e845-4353-ea4a-9591f000079b"
      },
      "execution_count": null,
      "outputs": [
        {
          "output_type": "stream",
          "name": "stdout",
          "text": [
            "Audience Type\n",
            "Audience Type 1    0.045813\n",
            "Audience Type 2    0.033061\n",
            "Audience Type 3    0.006642\n",
            "Audience Type 4    0.027555\n",
            "Audience Type 5    0.076070\n",
            "dtype: float64\n"
          ]
        }
      ]
    },
    {
      "cell_type": "code",
      "source": [
        "# Calculate the click through rate for each audience\n",
        "\n",
        "total_impressions = df.groupby('Audience Type')['# Impressions'].sum()\n",
        "total_clicks = df.groupby('Audience Type')['# Clicks'].sum()\n",
        "\n",
        "\n",
        "ctr_at = total_clicks / total_impressions\n",
        "\n",
        "print(ctr_at)"
      ],
      "metadata": {
        "colab": {
          "base_uri": "https://localhost:8080/"
        },
        "id": "WKsQOLkwXop1",
        "outputId": "844595f1-c66f-4387-9e84-047774fa4f50"
      },
      "execution_count": null,
      "outputs": [
        {
          "output_type": "stream",
          "name": "stdout",
          "text": [
            "Audience Type\n",
            "Audience Type 1    0.272758\n",
            "Audience Type 2    0.191591\n",
            "Audience Type 3    0.287331\n",
            "Audience Type 4    0.133860\n",
            "Audience Type 5    0.115017\n",
            "dtype: float64\n"
          ]
        }
      ]
    },
    {
      "cell_type": "code",
      "source": [
        "#Spent on audience type as per historical data\n",
        "\n",
        "total_spent_at = df.groupby('Audience Type')['$ Spend'].sum()\n",
        "\n",
        "print(total_spent_at)\n",
        "\n"
      ],
      "metadata": {
        "colab": {
          "base_uri": "https://localhost:8080/"
        },
        "id": "oz2MqvdMX4r6",
        "outputId": "cba1e85e-eee8-4b45-cb49-2b2e0694743c"
      },
      "execution_count": null,
      "outputs": [
        {
          "output_type": "stream",
          "name": "stdout",
          "text": [
            "Audience Type\n",
            "Audience Type 1    1903352\n",
            "Audience Type 2    1452119\n",
            "Audience Type 3    1528882\n",
            "Audience Type 4    1208669\n",
            "Audience Type 5     606121\n",
            "Name: $ Spend, dtype: int64\n"
          ]
        }
      ]
    },
    {
      "cell_type": "code",
      "source": [
        "#Audience allocation for Programmatic Display\n",
        "\n",
        "import numpy as np\n",
        "from scipy.optimize import minimize\n",
        "\n",
        "def objective(x):\n",
        "    ppc = np.array([0.045813,0.033012,0.006644,0.027548,0.076070])  # pay per click for each channel\n",
        "    ctr = np.array([0.272758,0.191965,0.287353,0.133932,0.115017])  # click through rate for each channel\n",
        "    return -1 * (x.dot(ppc * ctr))  # negative sign to maximize returns\n",
        "\n",
        "\n",
        "budget = 188179  # total budget for PD\n",
        "cons = ({'type': 'eq', 'fun': lambda x: np.sum(x) - budget})  # budget constraint\n",
        "bounds = [(budget*0.02, budget*0.5)] * 5  # bounds for each channel\n",
        "\n",
        "\n",
        "# Initial budget allocation\n",
        "x0 = np.array([1903352, 1453927, 1529418,1209228,606121])\n",
        "\n",
        "# Run the optimization algorithm\n",
        "result = minimize(objective, x0, method='SLSQP', bounds=bounds, constraints=cons)\n",
        "\n",
        "# Print the optimal budget allocation with audience names\n",
        "channel_names = ['Audience Type 1', 'Audience Type 2','Audience Type 3','Audience Type 4','Audience Type 5']\n",
        "for i in range(len(channel_names)):\n",
        "    print(channel_names[i] + ': $' + str(round(result.x[i], 2)))\n"
      ],
      "metadata": {
        "colab": {
          "base_uri": "https://localhost:8080/"
        },
        "id": "9-OvtwdMYPwQ",
        "outputId": "d1622413-ac25-417d-b265-53446e966e2e"
      },
      "execution_count": null,
      "outputs": [
        {
          "output_type": "stream",
          "name": "stdout",
          "text": [
            "Audience Type 1: $94089.5\n",
            "Audience Type 2: $3763.58\n",
            "Audience Type 3: $3763.58\n",
            "Audience Type 4: $3763.58\n",
            "Audience Type 5: $82798.76\n"
          ]
        }
      ]
    },
    {
      "cell_type": "code",
      "source": [
        "#Audience allocation for Search\n",
        "\n",
        "import numpy as np\n",
        "from scipy.optimize import minimize\n",
        "\n",
        "def objective(x):\n",
        "    ppc = np.array([0.045813,0.033012,0.006644,0.027548,0.076070])  # pay per click for each channel\n",
        "    ctr = np.array([0.272758,0.191965,0.287353,0.133932,0.115017])  # click through rate for each channel\n",
        "    return -1 * (x.dot(ppc * ctr))  # negative sign to maximize returns\n",
        "\n",
        "\n",
        "budget = 500000.0  # total budget for search\n",
        "cons = ({'type': 'eq', 'fun': lambda x: np.sum(x) - budget})  # budget constraint\n",
        "bounds = [(budget*0.02, budget*0.5)] * 5  # bounds for each channel\n",
        "\n",
        "\n",
        "# Initial budget allocation\n",
        "x0 = np.array([1903352, 1453927, 1529418,1209228,606121])\n",
        "\n",
        "# Run the optimization algorithm\n",
        "result = minimize(objective, x0, method='SLSQP', bounds=bounds, constraints=cons)\n",
        "\n",
        "# Print the optimal budget allocation with audience names\n",
        "channel_names = ['Audience Type 1', 'Audience Type 2','Audience Type 3','Audience Type 4','Audience Type 5']\n",
        "for i in range(len(channel_names)):\n",
        "    print(channel_names[i] + ': $' + str(round(result.x[i], 2)))\n"
      ],
      "metadata": {
        "colab": {
          "base_uri": "https://localhost:8080/"
        },
        "id": "puwvxgZ7YSw7",
        "outputId": "1147041d-adca-45bf-bedd-f10770c5427c"
      },
      "execution_count": null,
      "outputs": [
        {
          "output_type": "stream",
          "name": "stdout",
          "text": [
            "Audience Type 1: $250000.0\n",
            "Audience Type 2: $10000.0\n",
            "Audience Type 3: $10000.0\n",
            "Audience Type 4: $10000.0\n",
            "Audience Type 5: $220000.0\n"
          ]
        }
      ]
    },
    {
      "cell_type": "code",
      "source": [
        "#Audience allocation for Social\n",
        "\n",
        "import numpy as np\n",
        "from scipy.optimize import minimize\n",
        "\n",
        "def objective(x):\n",
        "    ppc = np.array([0.045813,0.033012,0.006644,0.027548,0.076070])  # pay per click for each channel\n",
        "    ctr = np.array([0.272758,0.191965,0.287353,0.133932,0.115017])  # click through rate for each channel\n",
        "    return -1 * (x.dot(ppc * ctr))  # negative sign to maximize returns\n",
        "\n",
        "\n",
        "budget = 311821  # total budget for social\n",
        "cons = ({'type': 'eq', 'fun': lambda x: np.sum(x) - budget})  # budget constraint\n",
        "bounds = [(budget*0.02, budget*0.5)] * 5  # bounds for each channel\n",
        "\n",
        "\n",
        "# Initial budget allocation as per audience type\n",
        "x0 = np.array([1903352, 1453927, 1529418,1209228,606121])\n",
        "\n",
        "# Run the optimization algorithm\n",
        "result = minimize(objective, x0, method='SLSQP', bounds=bounds, constraints=cons)\n",
        "\n",
        "# Print the optimal budget allocation with audience names\n",
        "channel_names = ['Audience Type 1', 'Audience Type 2','Audience Type 3','Audience Type 4','Audience Type 5']\n",
        "for i in range(len(channel_names)):\n",
        "    print(channel_names[i] + ': $' + str(round(result.x[i], 2)))"
      ],
      "metadata": {
        "colab": {
          "base_uri": "https://localhost:8080/"
        },
        "id": "NKDxrILhYVCP",
        "outputId": "be016651-ab1c-4603-bc25-b45ce6e6070e"
      },
      "execution_count": null,
      "outputs": [
        {
          "output_type": "stream",
          "name": "stdout",
          "text": [
            "Audience Type 1: $155910.5\n",
            "Audience Type 2: $6236.42\n",
            "Audience Type 3: $6236.42\n",
            "Audience Type 4: $6236.42\n",
            "Audience Type 5: $137201.24\n"
          ]
        }
      ]
    }
  ]
}